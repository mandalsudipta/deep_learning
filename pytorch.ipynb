{
  "nbformat": 4,
  "nbformat_minor": 0,
  "metadata": {
    "colab": {
      "provenance": [],
      "authorship_tag": "ABX9TyPjQipQ5p9HCBw6G4Lbqwte"
    },
    "kernelspec": {
      "name": "python3",
      "display_name": "Python 3"
    },
    "language_info": {
      "name": "python"
    }
  },
  "cells": [
    {
      "cell_type": "code",
      "source": [
        "import torch\n",
        "torch.__version__"
      ],
      "metadata": {
        "colab": {
          "base_uri": "https://localhost:8080/",
          "height": 35
        },
        "id": "0TFcUiMAmxyM",
        "outputId": "46b49113-38d2-4db3-d3ab-261c1104e892"
      },
      "execution_count": 1,
      "outputs": [
        {
          "output_type": "execute_result",
          "data": {
            "text/plain": [
              "'2.4.0+cu121'"
            ],
            "application/vnd.google.colaboratory.intrinsic+json": {
              "type": "string"
            }
          },
          "metadata": {},
          "execution_count": 1
        }
      ]
    },
    {
      "cell_type": "code",
      "execution_count": null,
      "metadata": {
        "colab": {
          "base_uri": "https://localhost:8080/"
        },
        "id": "aAdQHmpTkeiL",
        "outputId": "5e2a3a18-bdd4-4a9b-a892-b7d87ade7915"
      },
      "outputs": [
        {
          "output_type": "execute_result",
          "data": {
            "text/plain": [
              "(tensor(3), 0, 3)"
            ]
          },
          "metadata": {},
          "execution_count": 10
        }
      ],
      "source": [
        "import torch\n",
        "scaler = torch.tensor(3)\n",
        "scaler, scaler.ndim, scaler.item()"
      ]
    },
    {
      "cell_type": "code",
      "source": [
        "vector=torch.tensor([1,2])\n",
        "vector, vector.ndim, vector.shape"
      ],
      "metadata": {
        "colab": {
          "base_uri": "https://localhost:8080/"
        },
        "id": "2ZeAuFNQqbvh",
        "outputId": "f52dc5bc-0a21-4f2f-8c82-4b39f5a709f9"
      },
      "execution_count": null,
      "outputs": [
        {
          "output_type": "execute_result",
          "data": {
            "text/plain": [
              "(tensor([1, 2]), 1, torch.Size([2]))"
            ]
          },
          "metadata": {},
          "execution_count": 12
        }
      ]
    },
    {
      "cell_type": "code",
      "source": [
        "#Matrix\n",
        "matrix=torch.tensor([[1,2],[3,4]])\n",
        "matrix, matrix.ndim, matrix.shape,matrix[0],matrix[1]"
      ],
      "metadata": {
        "colab": {
          "base_uri": "https://localhost:8080/"
        },
        "id": "Wn2ahJbTre1-",
        "outputId": "41f75aaf-ca5d-4025-9926-8e6a975f4718"
      },
      "execution_count": null,
      "outputs": [
        {
          "output_type": "execute_result",
          "data": {
            "text/plain": [
              "(tensor([[1, 2],\n",
              "         [3, 4]]),\n",
              " 2,\n",
              " torch.Size([2, 2]),\n",
              " tensor([1, 2]),\n",
              " tensor([3, 4]))"
            ]
          },
          "metadata": {},
          "execution_count": 19
        }
      ]
    },
    {
      "cell_type": "code",
      "source": [
        "#Tensor\n",
        "TENSOR=torch.tensor([[1,2,3]])\n",
        "print(f\"Tensor : {TENSOR}\")\n",
        "print(f\"Dimension : {TENSOR.ndim}\")\n",
        "print(f\"Shape : {TENSOR.shape}\")\n",
        "print(f\"Element : {TENSOR[0]}\")\n",
        "\n",
        "print(f\"Element : {TENSOR[0][0]}\")\n",
        "print(f\"Element : {TENSOR[0][1]}\")\n",
        "print(f\"Element : {TENSOR[0][2]}\")"
      ],
      "metadata": {
        "colab": {
          "base_uri": "https://localhost:8080/"
        },
        "id": "hxT4dbqkC1DW",
        "outputId": "f99f4f8b-0429-49ea-fb36-03d0ae14fb26"
      },
      "execution_count": null,
      "outputs": [
        {
          "output_type": "stream",
          "name": "stdout",
          "text": [
            "Tensor : tensor([[1, 2, 3]])\n",
            "Dimension : 2\n",
            "Shape : torch.Size([1, 3])\n",
            "Element : tensor([1, 2, 3])\n",
            "Element : 1\n",
            "Element : 2\n",
            "Element : 3\n"
          ]
        }
      ]
    },
    {
      "cell_type": "code",
      "source": [
        "#Tensor\n",
        "TENSOR=torch.tensor([[[1,2,3],[4,5,6]],[[7,8,9],[10,11,12]]])\n",
        "print(f\"Tensor : {TENSOR}\")\n",
        "print(f\"Dimension : {TENSOR.ndim}\")\n",
        "print(f\"Shape : {TENSOR.shape}\")\n",
        "print(f\"Element 0th : {TENSOR[0]}\")\n",
        "print(f\"Element 1th: {TENSOR[1]}\")\n",
        "print(f\"Element 00th : {TENSOR[0][0]}\")\n",
        "print(f\"Element 01th: {TENSOR[0][1]}\")\n",
        "print(f\"Element 10th: {TENSOR[1][0]}\")\n",
        "print(f\"Element 11th: {TENSOR[1][1]}\")"
      ],
      "metadata": {
        "colab": {
          "base_uri": "https://localhost:8080/"
        },
        "id": "INdFe4rHEVP5",
        "outputId": "06d18757-06b0-47fe-b74a-a91eb32fa7e2"
      },
      "execution_count": null,
      "outputs": [
        {
          "output_type": "stream",
          "name": "stdout",
          "text": [
            "Tensor : tensor([[[ 1,  2,  3],\n",
            "         [ 4,  5,  6]],\n",
            "\n",
            "        [[ 7,  8,  9],\n",
            "         [10, 11, 12]]])\n",
            "Dimension : 3\n",
            "Shape : torch.Size([2, 2, 3])\n",
            "Element 0th : tensor([[1, 2, 3],\n",
            "        [4, 5, 6]])\n",
            "Element 1th: tensor([[ 7,  8,  9],\n",
            "        [10, 11, 12]])\n",
            "Element 00th : tensor([1, 2, 3])\n",
            "Element 01th: tensor([4, 5, 6])\n",
            "Element 10th: tensor([7, 8, 9])\n",
            "Element 11th: tensor([10, 11, 12])\n"
          ]
        }
      ]
    },
    {
      "cell_type": "code",
      "source": [
        "#Tensor\n",
        "TENSOR=torch.tensor([[[1,2,3],[4,5,6],[7,8,9]]])\n",
        "TENSOR, TENSOR.ndim, TENSOR.shape"
      ],
      "metadata": {
        "colab": {
          "base_uri": "https://localhost:8080/"
        },
        "id": "fC-Wu1HzCf5_",
        "outputId": "258ca2ca-0fad-4d93-97e7-2bf2a8dc5e27"
      },
      "execution_count": null,
      "outputs": [
        {
          "output_type": "execute_result",
          "data": {
            "text/plain": [
              "(tensor([[[1, 2, 3],\n",
              "          [4, 5, 6],\n",
              "          [7, 8, 9]]]),\n",
              " 3,\n",
              " torch.Size([1, 3, 3]))"
            ]
          },
          "metadata": {},
          "execution_count": 3
        }
      ]
    },
    {
      "cell_type": "code",
      "source": [
        "#Tensor\n",
        "TENSOR=torch.tensor([[[1,2,3],[4,5,6],[7,8,9]],[[1,2,3],[4,5,6],[7,8,9]]])\n",
        "TENSOR, TENSOR.ndim, TENSOR.shape"
      ],
      "metadata": {
        "colab": {
          "base_uri": "https://localhost:8080/"
        },
        "id": "DaonEMc3sttr",
        "outputId": "44f2f0e7-7096-4d9e-9d9c-5e1b9b9abbce"
      },
      "execution_count": null,
      "outputs": [
        {
          "output_type": "execute_result",
          "data": {
            "text/plain": [
              "(tensor([[[1, 2, 3],\n",
              "          [4, 5, 6],\n",
              "          [7, 8, 9]],\n",
              " \n",
              "         [[1, 2, 3],\n",
              "          [4, 5, 6],\n",
              "          [7, 8, 9]]]),\n",
              " 3,\n",
              " torch.Size([2, 3, 3]))"
            ]
          },
          "metadata": {},
          "execution_count": 33
        }
      ]
    },
    {
      "cell_type": "code",
      "source": [
        "TENSOR[0]"
      ],
      "metadata": {
        "colab": {
          "base_uri": "https://localhost:8080/"
        },
        "id": "dMpapap0uu0Q",
        "outputId": "f93399de-7fba-4f3e-beb3-b85776a058df"
      },
      "execution_count": null,
      "outputs": [
        {
          "output_type": "execute_result",
          "data": {
            "text/plain": [
              "tensor([[1, 2, 3],\n",
              "        [4, 5, 6]])"
            ]
          },
          "metadata": {},
          "execution_count": 19
        }
      ]
    },
    {
      "cell_type": "code",
      "source": [
        "#Random tensors\n",
        "random_tensor=torch.rand(1,1,3,4)\n",
        "random_tensor, random_tensor.ndim"
      ],
      "metadata": {
        "colab": {
          "base_uri": "https://localhost:8080/"
        },
        "id": "lqnKPGziKk-w",
        "outputId": "c95b1010-534a-4025-ba46-cd273d05705f"
      },
      "execution_count": null,
      "outputs": [
        {
          "output_type": "execute_result",
          "data": {
            "text/plain": [
              "(tensor([[[[0.4092, 0.6768, 0.3349, 0.9035],\n",
              "           [0.4944, 0.4070, 0.1732, 0.3757],\n",
              "           [0.5269, 0.9784, 0.7134, 0.9728]]]]),\n",
              " 4)"
            ]
          },
          "metadata": {},
          "execution_count": 27
        }
      ]
    },
    {
      "cell_type": "code",
      "source": [
        "random_tensor=torch.rand(2,3,3,4)\n",
        "random_tensor, random_tensor.ndim"
      ],
      "metadata": {
        "colab": {
          "base_uri": "https://localhost:8080/"
        },
        "id": "oSqbn0clLcmQ",
        "outputId": "323fe188-8c3f-4290-b938-48d31f2c507f"
      },
      "execution_count": null,
      "outputs": [
        {
          "output_type": "execute_result",
          "data": {
            "text/plain": [
              "(tensor([[[[0.7663, 0.9049, 0.1163, 0.6578],\n",
              "           [0.1661, 0.7486, 0.3235, 0.6276],\n",
              "           [0.2453, 0.2602, 0.9380, 0.1806]],\n",
              " \n",
              "          [[0.4085, 0.0132, 0.8182, 0.6582],\n",
              "           [0.6468, 0.5449, 0.6753, 0.3743],\n",
              "           [0.3089, 0.7815, 0.0750, 0.3458]],\n",
              " \n",
              "          [[0.2341, 0.0923, 0.7100, 0.9165],\n",
              "           [0.4482, 0.4518, 0.9329, 0.1933],\n",
              "           [0.9818, 0.6350, 0.9113, 0.4275]]],\n",
              " \n",
              " \n",
              "         [[[0.5645, 0.2946, 0.2947, 0.2681],\n",
              "           [0.1016, 0.9211, 0.3624, 0.6637],\n",
              "           [0.1842, 0.3308, 0.0134, 0.9004]],\n",
              " \n",
              "          [[0.1860, 0.5390, 0.1407, 0.8606],\n",
              "           [0.6980, 0.3429, 0.4733, 0.0709],\n",
              "           [0.2677, 0.9774, 0.3701, 0.6720]],\n",
              " \n",
              "          [[0.4830, 0.8262, 0.5845, 0.5706],\n",
              "           [0.8139, 0.1443, 0.1878, 0.3021],\n",
              "           [0.2687, 0.6138, 0.4044, 0.4096]]]]),\n",
              " 4)"
            ]
          },
          "metadata": {},
          "execution_count": 29
        }
      ]
    },
    {
      "cell_type": "code",
      "source": [
        "#Creating a random tensor with similar shape of an image tensor\n",
        "image_tensor=torch.rand(size=(3,224,224))\n",
        "image_tensor,image_tensor.shape, image_tensor.ndim"
      ],
      "metadata": {
        "colab": {
          "base_uri": "https://localhost:8080/"
        },
        "id": "XOLCl7FFL_Se",
        "outputId": "1c56a078-0f02-4233-a050-072ffdec9803"
      },
      "execution_count": null,
      "outputs": [
        {
          "output_type": "execute_result",
          "data": {
            "text/plain": [
              "(tensor([[[0.1185, 0.0498, 0.4543,  ..., 0.0817, 0.9226, 0.8809],\n",
              "          [0.9089, 0.6784, 0.2458,  ..., 0.0950, 0.7098, 0.1754],\n",
              "          [0.7564, 0.5009, 0.7120,  ..., 0.7956, 0.2044, 0.7308],\n",
              "          ...,\n",
              "          [0.1462, 0.9186, 0.6305,  ..., 0.8619, 0.8311, 0.9868],\n",
              "          [0.4158, 0.5188, 0.7804,  ..., 0.8560, 0.6583, 0.0277],\n",
              "          [0.9377, 0.7517, 0.3964,  ..., 0.5894, 0.9585, 0.3315]],\n",
              " \n",
              "         [[0.1400, 0.1050, 0.3729,  ..., 0.7491, 0.9119, 0.3719],\n",
              "          [0.6121, 0.6930, 0.4529,  ..., 0.3929, 0.7264, 0.8781],\n",
              "          [0.5077, 0.1259, 0.9631,  ..., 0.9163, 0.0234, 0.3922],\n",
              "          ...,\n",
              "          [0.3684, 0.1422, 0.5174,  ..., 0.5409, 0.5634, 0.7254],\n",
              "          [0.0796, 0.0334, 0.9905,  ..., 0.3946, 0.7267, 0.9278],\n",
              "          [0.4267, 0.0600, 0.4665,  ..., 0.4172, 0.5476, 0.9358]],\n",
              " \n",
              "         [[0.8047, 0.5250, 0.7985,  ..., 0.7840, 0.1101, 0.9524],\n",
              "          [0.3925, 0.1353, 0.8274,  ..., 0.9399, 0.4063, 0.2224],\n",
              "          [0.6150, 0.2935, 0.3677,  ..., 0.2448, 0.0063, 0.9601],\n",
              "          ...,\n",
              "          [0.0440, 0.1741, 0.9172,  ..., 0.1091, 0.7145, 0.8265],\n",
              "          [0.3109, 0.6123, 0.5930,  ..., 0.8012, 0.0791, 0.9519],\n",
              "          [0.3464, 0.3551, 0.0544,  ..., 0.7654, 0.4172, 0.9546]]]),\n",
              " torch.Size([3, 224, 224]),\n",
              " 3)"
            ]
          },
          "metadata": {},
          "execution_count": 33
        }
      ]
    },
    {
      "cell_type": "code",
      "source": [
        "#random tensor with all zeros\n",
        "torch_zeros=torch.zeros(size=(3,4))\n",
        "torch_zeros, torch_zeros.dtype"
      ],
      "metadata": {
        "colab": {
          "base_uri": "https://localhost:8080/"
        },
        "id": "7_IZGNF3Nsgq",
        "outputId": "fe8043d7-1065-469e-8f3e-e23ab0a4f1cd"
      },
      "execution_count": null,
      "outputs": [
        {
          "output_type": "execute_result",
          "data": {
            "text/plain": [
              "(tensor([[0., 0., 0., 0.],\n",
              "         [0., 0., 0., 0.],\n",
              "         [0., 0., 0., 0.]]),\n",
              " torch.float32)"
            ]
          },
          "metadata": {},
          "execution_count": 34
        }
      ]
    },
    {
      "cell_type": "code",
      "source": [
        "#random tensor with all ones\n",
        "torch_ones=torch.ones(size=(3,4))\n",
        "torch_ones, torch_ones.dtype"
      ],
      "metadata": {
        "colab": {
          "base_uri": "https://localhost:8080/"
        },
        "id": "E9Eumyw2Nyeh",
        "outputId": "3fe5daca-153c-4f71-8106-4ad14586d298"
      },
      "execution_count": null,
      "outputs": [
        {
          "output_type": "execute_result",
          "data": {
            "text/plain": [
              "(tensor([[1., 1., 1., 1.],\n",
              "         [1., 1., 1., 1.],\n",
              "         [1., 1., 1., 1.]]),\n",
              " torch.float32)"
            ]
          },
          "metadata": {},
          "execution_count": 35
        }
      ]
    },
    {
      "cell_type": "code",
      "source": [
        "torch_zeros*torch_ones"
      ],
      "metadata": {
        "colab": {
          "base_uri": "https://localhost:8080/"
        },
        "id": "EckNxC9wN35Q",
        "outputId": "9758602e-d968-4587-9966-79f653a99f2d"
      },
      "execution_count": null,
      "outputs": [
        {
          "output_type": "execute_result",
          "data": {
            "text/plain": [
              "tensor([[0., 0., 0., 0.],\n",
              "        [0., 0., 0., 0.],\n",
              "        [0., 0., 0., 0.]])"
            ]
          },
          "metadata": {},
          "execution_count": 37
        }
      ]
    },
    {
      "cell_type": "code",
      "source": [
        "#arange method\n",
        "torch_range=torch.arange(0,10)\n",
        "torch_range"
      ],
      "metadata": {
        "colab": {
          "base_uri": "https://localhost:8080/"
        },
        "id": "pdcgan60QCBw",
        "outputId": "da8c5fb4-5711-4112-bcff-a65192e41f21"
      },
      "execution_count": null,
      "outputs": [
        {
          "output_type": "execute_result",
          "data": {
            "text/plain": [
              "tensor([0, 1, 2, 3, 4, 5, 6, 7, 8, 9])"
            ]
          },
          "metadata": {},
          "execution_count": 39
        }
      ]
    },
    {
      "cell_type": "code",
      "source": [
        "#arange method\n",
        "torch_range_step=torch.arange(start=0,end=10,step=2)\n",
        "torch_range"
      ],
      "metadata": {
        "colab": {
          "base_uri": "https://localhost:8080/"
        },
        "id": "4KC3w0ffP7Hb",
        "outputId": "2f29024c-8877-44de-e21a-d77e22c9a5ea"
      },
      "execution_count": null,
      "outputs": [
        {
          "output_type": "execute_result",
          "data": {
            "text/plain": [
              "tensor([0, 2, 4, 6, 8])"
            ]
          },
          "metadata": {},
          "execution_count": 38
        }
      ]
    },
    {
      "cell_type": "code",
      "source": [
        "#creating tensors like\n",
        "torch_zeros_like=torch.zeros_like(input=torch_range)\n",
        "torch_zeros_like"
      ],
      "metadata": {
        "colab": {
          "base_uri": "https://localhost:8080/"
        },
        "id": "fDmrw9HoQM4H",
        "outputId": "7df57ee7-9013-446c-ed8e-7c924b4ee1b5"
      },
      "execution_count": null,
      "outputs": [
        {
          "output_type": "execute_result",
          "data": {
            "text/plain": [
              "tensor([0, 0, 0, 0, 0, 0, 0, 0, 0, 0])"
            ]
          },
          "metadata": {},
          "execution_count": 40
        }
      ]
    },
    {
      "cell_type": "code",
      "source": [
        "#creating tensors like\n",
        "torch_ones_like=torch.ones_like(torch_range) #input keyword is optional\n",
        "torch_ones_like"
      ],
      "metadata": {
        "colab": {
          "base_uri": "https://localhost:8080/"
        },
        "id": "CNMreaBaQZIm",
        "outputId": "c5de9d4b-af34-4480-cf19-d6780160afc9"
      },
      "execution_count": null,
      "outputs": [
        {
          "output_type": "execute_result",
          "data": {
            "text/plain": [
              "tensor([1, 1, 1, 1, 1, 1, 1, 1, 1, 1])"
            ]
          },
          "metadata": {},
          "execution_count": 42
        }
      ]
    },
    {
      "cell_type": "code",
      "source": [
        "#creating tensors like\n",
        "torch_random_like=torch.rand_like(input=torch_range.float()) # Cast torch_range to float\n",
        "torch_random_like"
      ],
      "metadata": {
        "colab": {
          "base_uri": "https://localhost:8080/"
        },
        "id": "Z0buXm5dQjxz",
        "outputId": "090f619c-3529-4a91-b1a1-8b9eb08ed686"
      },
      "execution_count": null,
      "outputs": [
        {
          "output_type": "execute_result",
          "data": {
            "text/plain": [
              "tensor([0.2745, 0.1981, 0.4006, 0.7291, 0.8775, 0.4452, 0.4648, 0.3489, 0.3994,\n",
              "        0.5366])"
            ]
          },
          "metadata": {},
          "execution_count": 45
        }
      ]
    },
    {
      "cell_type": "markdown",
      "source": [
        "# **Tensor Data Types**"
      ],
      "metadata": {
        "id": "8QPtHtjOSGkV"
      }
    },
    {
      "cell_type": "code",
      "source": [
        "#Tensor float32 data types\n",
        "float_32_tensor=torch.tensor([1.0,2.0,3.0],dtype=None)\n",
        "float_32_tensor, float_32_tensor.dtype"
      ],
      "metadata": {
        "colab": {
          "base_uri": "https://localhost:8080/"
        },
        "id": "GyNpNQviSL6a",
        "outputId": "0a2d778c-06a2-4b7f-fdc8-7309dc3b1d62"
      },
      "execution_count": null,
      "outputs": [
        {
          "output_type": "execute_result",
          "data": {
            "text/plain": [
              "(tensor([1., 2., 3.]), torch.float32)"
            ]
          },
          "metadata": {},
          "execution_count": 46
        }
      ]
    },
    {
      "cell_type": "code",
      "source": [
        "#Tensor float32 data types\n",
        "float_32_tensor=torch.tensor([1.0,2.0,3.0],dtype=torch.float16)\n",
        "float_32_tensor, float_32_tensor.dtype\n"
      ],
      "metadata": {
        "colab": {
          "base_uri": "https://localhost:8080/"
        },
        "id": "fSwxRdqXSVBJ",
        "outputId": "b2e1b11a-ccb0-4de8-af9b-1bd76dbdde36"
      },
      "execution_count": null,
      "outputs": [
        {
          "output_type": "execute_result",
          "data": {
            "text/plain": [
              "(tensor([1., 2., 3.], dtype=torch.float16), torch.float16)"
            ]
          },
          "metadata": {},
          "execution_count": 48
        }
      ]
    },
    {
      "cell_type": "code",
      "source": [
        "#Tensor float16 data types\n",
        "float_32_tensor=torch.tensor([1.0,2.0,3.0],\n",
        "                             dtype=torch.float16, #what datatype the tensor\n",
        "                             device=None, #what device the tensor is running\n",
        "                             requires_grad=False) #Whether to track the gradients of the tensor operations\n",
        "float_32_tensor, float_32_tensor.dtype"
      ],
      "metadata": {
        "colab": {
          "base_uri": "https://localhost:8080/"
        },
        "id": "2y2lnPpiScod",
        "outputId": "c9d2b38b-673a-48c4-e9a6-f0b8fb486366"
      },
      "execution_count": null,
      "outputs": [
        {
          "output_type": "execute_result",
          "data": {
            "text/plain": [
              "(tensor([1., 2., 3.], dtype=torch.float16), torch.float16)"
            ]
          },
          "metadata": {},
          "execution_count": 49
        }
      ]
    },
    {
      "cell_type": "markdown",
      "source": [
        "Three types of tensor errors can be found in deep learning and pytorch\n",
        "1. The tensors not right datatype\n",
        "2. The tensor not right shape\n",
        "3. tensors not right device\n"
      ],
      "metadata": {
        "id": "J28PSiaEU0a7"
      }
    },
    {
      "cell_type": "code",
      "source": [
        "#data type change\n",
        "tensor_float32=torch.tensor([1.0,2.0,3.0],\n",
        "                             dtype=None, #what datatype the tensor\n",
        "                             device=None, #what device the tensor is running\n",
        "                             requires_grad=False)\n",
        "tensor_float16=tensor_float32.type(torch.float16)\n",
        "tensor_float16, tensor_float16.dtype"
      ],
      "metadata": {
        "colab": {
          "base_uri": "https://localhost:8080/"
        },
        "id": "2sqHyxKVUy_7",
        "outputId": "07bb6492-69ca-4d86-d9cf-cbb06eedcd17"
      },
      "execution_count": null,
      "outputs": [
        {
          "output_type": "execute_result",
          "data": {
            "text/plain": [
              "(tensor([1., 2., 3.], dtype=torch.float16), torch.float16)"
            ]
          },
          "metadata": {},
          "execution_count": 54
        }
      ]
    },
    {
      "cell_type": "markdown",
      "source": [
        "Tensors Arith Matic Operations\n",
        "1. Addition\n",
        "2. Subtraction\n",
        "3. Multiplication\n",
        "4. Division\n",
        "5. Matrix Multiplication\n"
      ],
      "metadata": {
        "id": "yNBEffHGcXFG"
      }
    },
    {
      "cell_type": "code",
      "source": [
        "import torch\n",
        "tensor=torch.tensor([1,2,3])\n",
        "tensor+10,tensor-10,tensor*10,tensor/10"
      ],
      "metadata": {
        "colab": {
          "base_uri": "https://localhost:8080/"
        },
        "id": "aASigGH8aSCB",
        "outputId": "a11f3096-91fe-4c46-a4ab-c96d8f27d966"
      },
      "execution_count": 7,
      "outputs": [
        {
          "output_type": "execute_result",
          "data": {
            "text/plain": [
              "(tensor([11, 12, 13]),\n",
              " tensor([-9, -8, -7]),\n",
              " tensor([10, 20, 30]),\n",
              " tensor([0.1000, 0.2000, 0.3000]))"
            ]
          },
          "metadata": {},
          "execution_count": 7
        }
      ]
    },
    {
      "cell_type": "markdown",
      "source": [
        "Using in-built function"
      ],
      "metadata": {
        "id": "lZTvFovh1nWc"
      }
    },
    {
      "cell_type": "code",
      "source": [
        "import torch\n",
        "tensor.add(10),tensor.sub(10),tensor.mul(10),tensor.div(10) #tensor dot function can be used"
      ],
      "metadata": {
        "colab": {
          "base_uri": "https://localhost:8080/"
        },
        "id": "akijLmfB1iJA",
        "outputId": "25cd8491-e442-44ec-fd48-1e7eba515e8a"
      },
      "execution_count": 9,
      "outputs": [
        {
          "output_type": "execute_result",
          "data": {
            "text/plain": [
              "(tensor([11, 12, 13]),\n",
              " tensor([-9, -8, -7]),\n",
              " tensor([10, 20, 30]),\n",
              " tensor([0.1000, 0.2000, 0.3000]))"
            ]
          },
          "metadata": {},
          "execution_count": 9
        }
      ]
    },
    {
      "cell_type": "code",
      "source": [
        "import torch\n",
        "torch.mul(tensor,10),torch.add(tensor,10),torch.sub(tensor,10),torch.div(tensor,10) #Alternatively torch dot function also can be used"
      ],
      "metadata": {
        "colab": {
          "base_uri": "https://localhost:8080/"
        },
        "id": "8a-xVXax12rw",
        "outputId": "8c67875f-cd41-4334-f341-c096ea663ed5"
      },
      "execution_count": 10,
      "outputs": [
        {
          "output_type": "execute_result",
          "data": {
            "text/plain": [
              "(tensor([10, 20, 30]),\n",
              " tensor([11, 12, 13]),\n",
              " tensor([-9, -8, -7]),\n",
              " tensor([0.1000, 0.2000, 0.3000]))"
            ]
          },
          "metadata": {},
          "execution_count": 10
        }
      ]
    },
    {
      "cell_type": "markdown",
      "source": [
        "Matrix Multiplication\n",
        "1. Element wise\n",
        "2. using matmul method matrix multiplication(dot product)\n"
      ],
      "metadata": {
        "id": "XNPpB5HY5rJ8"
      }
    },
    {
      "cell_type": "code",
      "source": [
        "%%time\n",
        "value=0\n",
        "for i in range (len(tensor)):\n",
        "  value += tensor[i]*tensor[i]\n",
        "value"
      ],
      "metadata": {
        "colab": {
          "base_uri": "https://localhost:8080/"
        },
        "id": "KHqriAvz5qi0",
        "outputId": "cce06c6b-7b10-40fe-da09-6d5e3223784e"
      },
      "execution_count": 19,
      "outputs": [
        {
          "output_type": "stream",
          "name": "stdout",
          "text": [
            "CPU times: user 0 ns, sys: 1.76 ms, total: 1.76 ms\n",
            "Wall time: 1.53 ms\n"
          ]
        },
        {
          "output_type": "execute_result",
          "data": {
            "text/plain": [
              "tensor(14)"
            ]
          },
          "metadata": {},
          "execution_count": 19
        }
      ]
    },
    {
      "cell_type": "code",
      "source": [
        "%%time\n",
        "torch.matmul(tensor,tensor) #using matmul method"
      ],
      "metadata": {
        "colab": {
          "base_uri": "https://localhost:8080/"
        },
        "id": "E71qWglG57_7",
        "outputId": "5c6ba01d-02c3-47ac-ae32-3ce67bd66b96"
      },
      "execution_count": 20,
      "outputs": [
        {
          "output_type": "stream",
          "name": "stdout",
          "text": [
            "CPU times: user 496 µs, sys: 0 ns, total: 496 µs\n",
            "Wall time: 503 µs\n"
          ]
        },
        {
          "output_type": "execute_result",
          "data": {
            "text/plain": [
              "tensor(14)"
            ]
          },
          "metadata": {},
          "execution_count": 20
        }
      ]
    },
    {
      "cell_type": "code",
      "source": [
        "#Instead of matmul we can use @ also\n",
        "tensor @ tensor"
      ],
      "metadata": {
        "colab": {
          "base_uri": "https://localhost:8080/"
        },
        "id": "g7iMpsR_HS8L",
        "outputId": "9740a11a-ea9d-4e6c-b9a1-70dc23bc6da7"
      },
      "execution_count": 26,
      "outputs": [
        {
          "output_type": "execute_result",
          "data": {
            "text/plain": [
              "tensor(14)"
            ]
          },
          "metadata": {},
          "execution_count": 26
        }
      ]
    },
    {
      "cell_type": "code",
      "source": [
        "#During matrix Multiplication the inner value must match for multiplication eligibility and the result will match the dimension of the outer value for example\n",
        "# (2X3) can be multiplied by (3x2) and result matrix dimension will be (2x2)\n",
        "tensor1=torch.tensor([[1,2,3],[4,5,6]])\n",
        "tensor2=torch.tensor([[5,6],[7,8],[9,10]])\n",
        "torch.matmul(tensor1,tensor2)"
      ],
      "metadata": {
        "colab": {
          "base_uri": "https://localhost:8080/"
        },
        "id": "gSkb_RedEeJ2",
        "outputId": "367e4fd0-3fa3-417d-9e73-168d37f3a24b"
      },
      "execution_count": 24,
      "outputs": [
        {
          "output_type": "execute_result",
          "data": {
            "text/plain": [
              "tensor([[ 46,  52],\n",
              "        [109, 124]])"
            ]
          },
          "metadata": {},
          "execution_count": 24
        }
      ]
    },
    {
      "cell_type": "code",
      "source": [
        "# So (2X3) can be multiplied by (3x3) and result matrix dimension will be (2x3)\n",
        "tensor1=torch.tensor([[1,2,3],[4,5,6]])\n",
        "tensor2=torch.tensor([[5,6,7],[8,9,10],[11,12,13]])\n",
        "torch.matmul(tensor1,tensor2)"
      ],
      "metadata": {
        "colab": {
          "base_uri": "https://localhost:8080/"
        },
        "id": "AThqlUbUFwTp",
        "outputId": "1d9d6ffd-afd3-46ef-9849-3ff107d06b19"
      },
      "execution_count": 25,
      "outputs": [
        {
          "output_type": "execute_result",
          "data": {
            "text/plain": [
              "tensor([[ 54,  60,  66],\n",
              "        [126, 141, 156]])"
            ]
          },
          "metadata": {},
          "execution_count": 25
        }
      ]
    },
    {
      "cell_type": "code",
      "source": [
        "#To handle the tensor shape issue we can take the transpose of the matrix\n",
        "tensor1\n",
        "tensor1_transpose=tensor1.T\n",
        "tensor1_transpose"
      ],
      "metadata": {
        "colab": {
          "base_uri": "https://localhost:8080/"
        },
        "id": "HURNT2l3HjFY",
        "outputId": "cc56b1c7-98ee-44ac-e9f7-7d84c78f9e98"
      },
      "execution_count": 28,
      "outputs": [
        {
          "output_type": "execute_result",
          "data": {
            "text/plain": [
              "tensor([[1, 4],\n",
              "        [2, 5],\n",
              "        [3, 6]])"
            ]
          },
          "metadata": {},
          "execution_count": 28
        }
      ]
    },
    {
      "cell_type": "markdown",
      "source": [
        "Tensor Aggregation\n",
        "min, max, mean and sum"
      ],
      "metadata": {
        "id": "jgKPy6x5LPjG"
      }
    },
    {
      "cell_type": "code",
      "source": [
        "#tensor aggregation examples\n",
        "x=(torch.arange(0,100,10))\n",
        "x, x.dtype,x.min(), x.max(), (x.type(torch.float32)).mean(), x.sum() #Since mean() always return a float data type"
      ],
      "metadata": {
        "colab": {
          "base_uri": "https://localhost:8080/"
        },
        "id": "DOHSR38zLO2v",
        "outputId": "1acf2cf7-0697-4d32-e81c-be808257b4b5"
      },
      "execution_count": 37,
      "outputs": [
        {
          "output_type": "execute_result",
          "data": {
            "text/plain": [
              "(tensor([ 0, 10, 20, 30, 40, 50, 60, 70, 80, 90]),\n",
              " torch.int64,\n",
              " tensor(0),\n",
              " tensor(90),\n",
              " tensor(45.),\n",
              " tensor(450))"
            ]
          },
          "metadata": {},
          "execution_count": 37
        }
      ]
    },
    {
      "cell_type": "markdown",
      "source": [
        "Finding the Positional min, max of the tensor"
      ],
      "metadata": {
        "id": "ykeWzHyhOhha"
      }
    },
    {
      "cell_type": "code",
      "source": [
        "#the method argmin() and argmax() are used to get the position of the min and max value of a tensor\n",
        "x=torch.arange(1,10)\n",
        "x, x.argmin(), x.argmax()"
      ],
      "metadata": {
        "colab": {
          "base_uri": "https://localhost:8080/"
        },
        "id": "Qxd6VkFeOmVS",
        "outputId": "a1787bb1-92ea-4ad6-a818-ad7132249f5b"
      },
      "execution_count": 38,
      "outputs": [
        {
          "output_type": "execute_result",
          "data": {
            "text/plain": [
              "(tensor([1, 2, 3, 4, 5, 6, 7, 8, 9]), tensor(0), tensor(8))"
            ]
          },
          "metadata": {},
          "execution_count": 38
        }
      ]
    },
    {
      "cell_type": "code",
      "source": [
        "xy=torch.rand(3,3)\n",
        "xy, xy.argmin(), xy.argmax()\n"
      ],
      "metadata": {
        "colab": {
          "base_uri": "https://localhost:8080/"
        },
        "id": "qLZNc9e4Rf6J",
        "outputId": "799129c6-c612-44cf-fd3d-cd4e2c9ad155"
      },
      "execution_count": 41,
      "outputs": [
        {
          "output_type": "execute_result",
          "data": {
            "text/plain": [
              "(tensor([[0.0811, 0.3437, 0.3567],\n",
              "         [0.0930, 0.0226, 0.4762],\n",
              "         [0.8093, 0.8388, 0.3028]]),\n",
              " tensor(4),\n",
              " tensor(7))"
            ]
          },
          "metadata": {},
          "execution_count": 41
        }
      ]
    },
    {
      "cell_type": "markdown",
      "source": [
        "**Reshaping, viewing,squeezing, unsqueezing and Stacking tensors**\n",
        "\n",
        "**reshaping :** changing the shape of a original tensor\n",
        "\n",
        "**viewing :** changing the view of a given tenso. View always refers the original memory of the tensor\n",
        "\n",
        "**stacking:** placing tensors on top of other tensor(vstack) or side bi side(hstack). A method of tensor concatenation\n",
        "\n",
        "**squeeze:** removes all '1' dimension from a tensor\n",
        "\n",
        "**unsqueeze :** adds all '1' dimension to a target tensor\n",
        "\n",
        "**Permute :** Returns a view of the input with dimension permuted(swapped)\n",
        "\n"
      ],
      "metadata": {
        "id": "iYIzqbmqSHaF"
      }
    },
    {
      "cell_type": "code",
      "source": [
        "#reshaping a tensor\n",
        "x=torch.arange(1,10)\n",
        "x_reshaped=x.reshape(1,9)\n",
        "x_another_reshaped=x.reshape(3,3)\n",
        "x, x.shape,x_reshaped, x_reshaped.shape,x_another_reshaped, x_another_reshaped.shape"
      ],
      "metadata": {
        "colab": {
          "base_uri": "https://localhost:8080/"
        },
        "id": "GWfB5ufrSHNL",
        "outputId": "7ee6b034-510a-432a-a8b8-8b105baffbab"
      },
      "execution_count": 46,
      "outputs": [
        {
          "output_type": "execute_result",
          "data": {
            "text/plain": [
              "(tensor([1, 2, 3, 4, 5, 6, 7, 8, 9]),\n",
              " torch.Size([9]),\n",
              " tensor([[1, 2, 3, 4, 5, 6, 7, 8, 9]]),\n",
              " torch.Size([1, 9]),\n",
              " tensor([[1, 2, 3],\n",
              "         [4, 5, 6],\n",
              "         [7, 8, 9]]),\n",
              " torch.Size([3, 3]))"
            ]
          },
          "metadata": {},
          "execution_count": 46
        }
      ]
    },
    {
      "cell_type": "code",
      "source": [
        "#view of a tensor\n",
        "x=torch.arange(1,10)\n",
        "z=x.view(1,9)\n",
        "z, z.shape"
      ],
      "metadata": {
        "colab": {
          "base_uri": "https://localhost:8080/"
        },
        "id": "0osGq3svaBoL",
        "outputId": "8bd4bd4b-3f1d-4e5b-bb09-509dd8290fdb"
      },
      "execution_count": 47,
      "outputs": [
        {
          "output_type": "execute_result",
          "data": {
            "text/plain": [
              "(tensor([[1, 2, 3, 4, 5, 6, 7, 8, 9]]), torch.Size([1, 9]))"
            ]
          },
          "metadata": {},
          "execution_count": 47
        }
      ]
    },
    {
      "cell_type": "code",
      "source": [
        "#changing z will chnage the value of x because the view of a tensor shares the same memory\n",
        "z[:,0]=5\n",
        "z,x\n"
      ],
      "metadata": {
        "colab": {
          "base_uri": "https://localhost:8080/"
        },
        "id": "p4yFwEVkaLBw",
        "outputId": "acef79ee-7691-46fd-9e5c-551af9ae0948"
      },
      "execution_count": 48,
      "outputs": [
        {
          "output_type": "execute_result",
          "data": {
            "text/plain": [
              "(tensor([[5, 2, 3, 4, 5, 6, 7, 8, 9]]), tensor([5, 2, 3, 4, 5, 6, 7, 8, 9]))"
            ]
          },
          "metadata": {},
          "execution_count": 48
        }
      ]
    },
    {
      "cell_type": "code",
      "source": [
        "#stacking of tensors\n",
        "new_tensors=torch.arange(1,10)\n",
        "new_tensors_stacked=torch.stack([new_tensors,new_tensors,new_tensors],dim=0)\n",
        "new_tensors_stacked_1=torch.stack([new_tensors,new_tensors,new_tensors],dim=1)\n",
        "new_tensors,new_tensors_stacked, new_tensors_stacked_1"
      ],
      "metadata": {
        "colab": {
          "base_uri": "https://localhost:8080/"
        },
        "id": "XSTVppRKmbqZ",
        "outputId": "79daf2e9-e26a-47a4-9db2-efacb893cd79"
      },
      "execution_count": 53,
      "outputs": [
        {
          "output_type": "execute_result",
          "data": {
            "text/plain": [
              "(tensor([1, 2, 3, 4, 5, 6, 7, 8, 9]),\n",
              " tensor([[1, 2, 3, 4, 5, 6, 7, 8, 9],\n",
              "         [1, 2, 3, 4, 5, 6, 7, 8, 9],\n",
              "         [1, 2, 3, 4, 5, 6, 7, 8, 9]]),\n",
              " tensor([[1, 1, 1],\n",
              "         [2, 2, 2],\n",
              "         [3, 3, 3],\n",
              "         [4, 4, 4],\n",
              "         [5, 5, 5],\n",
              "         [6, 6, 6],\n",
              "         [7, 7, 7],\n",
              "         [8, 8, 8],\n",
              "         [9, 9, 9]]))"
            ]
          },
          "metadata": {},
          "execution_count": 53
        }
      ]
    },
    {
      "cell_type": "code",
      "source": [
        "#Squezee and Unsquezee\n",
        "x=torch.arange(1,10)\n",
        "x_reshaped=x.reshape(1,9)\n",
        "x_squeezed=x_reshaped.squeeze()\n",
        "\n",
        "x,x_reshaped, x.shape,x_reshaped.shape, x.ndim,x_reshaped.ndim,x_squeezed"
      ],
      "metadata": {
        "colab": {
          "base_uri": "https://localhost:8080/"
        },
        "id": "7PrjCX7xn1I2",
        "outputId": "cf2766ba-4c5f-496f-d530-c7cc6fc8428d"
      },
      "execution_count": 60,
      "outputs": [
        {
          "output_type": "execute_result",
          "data": {
            "text/plain": [
              "(tensor([1, 2, 3, 4, 5, 6, 7, 8, 9]),\n",
              " tensor([[1, 2, 3, 4, 5, 6, 7, 8, 9]]),\n",
              " torch.Size([9]),\n",
              " torch.Size([1, 9]),\n",
              " 1,\n",
              " 2,\n",
              " tensor([1, 2, 3, 4, 5, 6, 7, 8, 9]))"
            ]
          },
          "metadata": {},
          "execution_count": 60
        }
      ]
    },
    {
      "cell_type": "code",
      "source": [
        "#Permute\n",
        "x=torch.rand(size=(224,224,3))\n",
        "x_permuted=x.permute(2,0,1) #shifts the axis 0->1, 1->2, 2->0\n",
        "x.shape, x_permuted.shape"
      ],
      "metadata": {
        "colab": {
          "base_uri": "https://localhost:8080/"
        },
        "id": "oDwGICPEpeOY",
        "outputId": "9551e7c3-1d53-4272-dbae-072958fe67f4"
      },
      "execution_count": 62,
      "outputs": [
        {
          "output_type": "execute_result",
          "data": {
            "text/plain": [
              "(torch.Size([224, 224, 3]), torch.Size([3, 224, 224]))"
            ]
          },
          "metadata": {},
          "execution_count": 62
        }
      ]
    },
    {
      "cell_type": "code",
      "source": [
        "#numpy array to tensor\n",
        "import torch\n",
        "import numpy as np\n",
        "array=np.arange(1.0,8.0)\n",
        "tensor=torch.from_numpy(array)\n",
        "tensor_to_numpy=tensor.numpy()\n",
        "array, tensor,tensor_to_numpy\n"
      ],
      "metadata": {
        "colab": {
          "base_uri": "https://localhost:8080/"
        },
        "id": "o-CON022pnsg",
        "outputId": "0b71bbee-960c-4666-a004-581908020ecc"
      },
      "execution_count": 64,
      "outputs": [
        {
          "output_type": "execute_result",
          "data": {
            "text/plain": [
              "(array([1., 2., 3., 4., 5., 6., 7.]),\n",
              " tensor([1., 2., 3., 4., 5., 6., 7.], dtype=torch.float64),\n",
              " array([1., 2., 3., 4., 5., 6., 7.]))"
            ]
          },
          "metadata": {},
          "execution_count": 64
        }
      ]
    },
    {
      "cell_type": "code",
      "source": [
        "#Reproducibilty trying to make random out of random\n",
        "import torch\n",
        "RANDOM_SEED=42\n",
        "torch.manual_seed(RANDOM_SEED)\n",
        "tensor_A=torch.rand(3,4)\n",
        "torch.manual_seed(RANDOM_SEED)\n",
        "tensor_B=torch.rand(3,4)\n",
        "print(tensor_A)\n",
        "print(tensor_B)\n",
        "print(tensor_A==tensor_B)"
      ],
      "metadata": {
        "colab": {
          "base_uri": "https://localhost:8080/"
        },
        "id": "JwcdKz4Kw7uu",
        "outputId": "46892a7c-048e-4d07-8dd5-4f5eb27098b5"
      },
      "execution_count": 1,
      "outputs": [
        {
          "output_type": "stream",
          "name": "stdout",
          "text": [
            "tensor([[0.8823, 0.9150, 0.3829, 0.9593],\n",
            "        [0.3904, 0.6009, 0.2566, 0.7936],\n",
            "        [0.9408, 0.1332, 0.9346, 0.5936]])\n",
            "tensor([[0.8823, 0.9150, 0.3829, 0.9593],\n",
            "        [0.3904, 0.6009, 0.2566, 0.7936],\n",
            "        [0.9408, 0.1332, 0.9346, 0.5936]])\n",
            "tensor([[True, True, True, True],\n",
            "        [True, True, True, True],\n",
            "        [True, True, True, True]])\n"
          ]
        }
      ]
    }
  ]
}