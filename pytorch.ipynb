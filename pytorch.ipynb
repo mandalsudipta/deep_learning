{
  "nbformat": 4,
  "nbformat_minor": 0,
  "metadata": {
    "colab": {
      "provenance": [],
      "authorship_tag": "ABX9TyM8TLb0Nt4rfEf8ggQi6XRy",
      "include_colab_link": true
    },
    "kernelspec": {
      "name": "python3",
      "display_name": "Python 3"
    },
    "language_info": {
      "name": "python"
    }
  },
  "cells": [
    {
      "cell_type": "markdown",
      "metadata": {
        "id": "view-in-github",
        "colab_type": "text"
      },
      "source": [
        "<a href=\"https://colab.research.google.com/github/mandalsudipta/deep_learning/blob/main/pytorch.ipynb\" target=\"_parent\"><img src=\"https://colab.research.google.com/assets/colab-badge.svg\" alt=\"Open In Colab\"/></a>"
      ]
    },
    {
      "cell_type": "code",
      "source": [
        "import torch\n",
        "torch.__version__"
      ],
      "metadata": {
        "colab": {
          "base_uri": "https://localhost:8080/",
          "height": 35
        },
        "id": "0TFcUiMAmxyM",
        "outputId": "468e8788-4fcf-4e36-fa4a-b1cf805be547"
      },
      "execution_count": 2,
      "outputs": [
        {
          "output_type": "execute_result",
          "data": {
            "text/plain": [
              "'2.4.0+cu121'"
            ],
            "application/vnd.google.colaboratory.intrinsic+json": {
              "type": "string"
            }
          },
          "metadata": {},
          "execution_count": 2
        }
      ]
    },
    {
      "cell_type": "code",
      "execution_count": null,
      "metadata": {
        "colab": {
          "base_uri": "https://localhost:8080/"
        },
        "id": "aAdQHmpTkeiL",
        "outputId": "5e2a3a18-bdd4-4a9b-a892-b7d87ade7915"
      },
      "outputs": [
        {
          "output_type": "execute_result",
          "data": {
            "text/plain": [
              "(tensor(3), 0, 3)"
            ]
          },
          "metadata": {},
          "execution_count": 10
        }
      ],
      "source": [
        "import torch\n",
        "scaler = torch.tensor(3)\n",
        "scaler, scaler.ndim, scaler.item()"
      ]
    },
    {
      "cell_type": "code",
      "source": [
        "vector=torch.tensor([1,2])\n",
        "vector, vector.ndim, vector.shape"
      ],
      "metadata": {
        "colab": {
          "base_uri": "https://localhost:8080/"
        },
        "id": "2ZeAuFNQqbvh",
        "outputId": "f52dc5bc-0a21-4f2f-8c82-4b39f5a709f9"
      },
      "execution_count": null,
      "outputs": [
        {
          "output_type": "execute_result",
          "data": {
            "text/plain": [
              "(tensor([1, 2]), 1, torch.Size([2]))"
            ]
          },
          "metadata": {},
          "execution_count": 12
        }
      ]
    },
    {
      "cell_type": "code",
      "source": [
        "#Matrix\n",
        "matrix=torch.tensor([[1,2],[3,4]])\n",
        "matrix, matrix.ndim, matrix.shape,matrix[0],matrix[1]"
      ],
      "metadata": {
        "colab": {
          "base_uri": "https://localhost:8080/"
        },
        "id": "Wn2ahJbTre1-",
        "outputId": "41f75aaf-ca5d-4025-9926-8e6a975f4718"
      },
      "execution_count": null,
      "outputs": [
        {
          "output_type": "execute_result",
          "data": {
            "text/plain": [
              "(tensor([[1, 2],\n",
              "         [3, 4]]),\n",
              " 2,\n",
              " torch.Size([2, 2]),\n",
              " tensor([1, 2]),\n",
              " tensor([3, 4]))"
            ]
          },
          "metadata": {},
          "execution_count": 19
        }
      ]
    },
    {
      "cell_type": "code",
      "source": [
        "#Tensor\n",
        "TENSOR=torch.tensor([[1,2,3]])\n",
        "print(f\"Tensor : {TENSOR}\")\n",
        "print(f\"Dimension : {TENSOR.ndim}\")\n",
        "print(f\"Shape : {TENSOR.shape}\")\n",
        "print(f\"Element : {TENSOR[0]}\")\n",
        "\n",
        "print(f\"Element : {TENSOR[0][0]}\")\n",
        "print(f\"Element : {TENSOR[0][1]}\")\n",
        "print(f\"Element : {TENSOR[0][2]}\")"
      ],
      "metadata": {
        "colab": {
          "base_uri": "https://localhost:8080/"
        },
        "id": "hxT4dbqkC1DW",
        "outputId": "f99f4f8b-0429-49ea-fb36-03d0ae14fb26"
      },
      "execution_count": 9,
      "outputs": [
        {
          "output_type": "stream",
          "name": "stdout",
          "text": [
            "Tensor : tensor([[1, 2, 3]])\n",
            "Dimension : 2\n",
            "Shape : torch.Size([1, 3])\n",
            "Element : tensor([1, 2, 3])\n",
            "Element : 1\n",
            "Element : 2\n",
            "Element : 3\n"
          ]
        }
      ]
    },
    {
      "cell_type": "code",
      "source": [
        "#Tensor\n",
        "TENSOR=torch.tensor([[[1,2,3],[4,5,6]],[[7,8,9],[10,11,12]]])\n",
        "print(f\"Tensor : {TENSOR}\")\n",
        "print(f\"Dimension : {TENSOR.ndim}\")\n",
        "print(f\"Shape : {TENSOR.shape}\")\n",
        "print(f\"Element 0th : {TENSOR[0]}\")\n",
        "print(f\"Element 1th: {TENSOR[1]}\")\n",
        "print(f\"Element 00th : {TENSOR[0][0]}\")\n",
        "print(f\"Element 01th: {TENSOR[0][1]}\")\n",
        "print(f\"Element 10th: {TENSOR[1][0]}\")\n",
        "print(f\"Element 11th: {TENSOR[1][1]}\")"
      ],
      "metadata": {
        "colab": {
          "base_uri": "https://localhost:8080/"
        },
        "id": "INdFe4rHEVP5",
        "outputId": "06d18757-06b0-47fe-b74a-a91eb32fa7e2"
      },
      "execution_count": 18,
      "outputs": [
        {
          "output_type": "stream",
          "name": "stdout",
          "text": [
            "Tensor : tensor([[[ 1,  2,  3],\n",
            "         [ 4,  5,  6]],\n",
            "\n",
            "        [[ 7,  8,  9],\n",
            "         [10, 11, 12]]])\n",
            "Dimension : 3\n",
            "Shape : torch.Size([2, 2, 3])\n",
            "Element 0th : tensor([[1, 2, 3],\n",
            "        [4, 5, 6]])\n",
            "Element 1th: tensor([[ 7,  8,  9],\n",
            "        [10, 11, 12]])\n",
            "Element 00th : tensor([1, 2, 3])\n",
            "Element 01th: tensor([4, 5, 6])\n",
            "Element 10th: tensor([7, 8, 9])\n",
            "Element 11th: tensor([10, 11, 12])\n"
          ]
        }
      ]
    },
    {
      "cell_type": "code",
      "source": [
        "#Tensor\n",
        "TENSOR=torch.tensor([[[1,2,3],[4,5,6],[7,8,9]]])\n",
        "TENSOR, TENSOR.ndim, TENSOR.shape"
      ],
      "metadata": {
        "colab": {
          "base_uri": "https://localhost:8080/"
        },
        "id": "fC-Wu1HzCf5_",
        "outputId": "258ca2ca-0fad-4d93-97e7-2bf2a8dc5e27"
      },
      "execution_count": 3,
      "outputs": [
        {
          "output_type": "execute_result",
          "data": {
            "text/plain": [
              "(tensor([[[1, 2, 3],\n",
              "          [4, 5, 6],\n",
              "          [7, 8, 9]]]),\n",
              " 3,\n",
              " torch.Size([1, 3, 3]))"
            ]
          },
          "metadata": {},
          "execution_count": 3
        }
      ]
    },
    {
      "cell_type": "code",
      "source": [
        "#Tensor\n",
        "TENSOR=torch.tensor([[[1,2,3],[4,5,6],[7,8,9]],[[1,2,3],[4,5,6],[7,8,9]]])\n",
        "TENSOR, TENSOR.ndim, TENSOR.shape"
      ],
      "metadata": {
        "colab": {
          "base_uri": "https://localhost:8080/"
        },
        "id": "DaonEMc3sttr",
        "outputId": "44f2f0e7-7096-4d9e-9d9c-5e1b9b9abbce"
      },
      "execution_count": null,
      "outputs": [
        {
          "output_type": "execute_result",
          "data": {
            "text/plain": [
              "(tensor([[[1, 2, 3],\n",
              "          [4, 5, 6],\n",
              "          [7, 8, 9]],\n",
              " \n",
              "         [[1, 2, 3],\n",
              "          [4, 5, 6],\n",
              "          [7, 8, 9]]]),\n",
              " 3,\n",
              " torch.Size([2, 3, 3]))"
            ]
          },
          "metadata": {},
          "execution_count": 33
        }
      ]
    },
    {
      "cell_type": "code",
      "source": [
        "TENSOR[0]"
      ],
      "metadata": {
        "colab": {
          "base_uri": "https://localhost:8080/"
        },
        "id": "dMpapap0uu0Q",
        "outputId": "f93399de-7fba-4f3e-beb3-b85776a058df"
      },
      "execution_count": 19,
      "outputs": [
        {
          "output_type": "execute_result",
          "data": {
            "text/plain": [
              "tensor([[1, 2, 3],\n",
              "        [4, 5, 6]])"
            ]
          },
          "metadata": {},
          "execution_count": 19
        }
      ]
    },
    {
      "cell_type": "code",
      "source": [
        "#Random tensors\n",
        "random_tensor=torch.rand(1,1,3,4)\n",
        "random_tensor, random_tensor.ndim"
      ],
      "metadata": {
        "colab": {
          "base_uri": "https://localhost:8080/"
        },
        "id": "lqnKPGziKk-w",
        "outputId": "c95b1010-534a-4025-ba46-cd273d05705f"
      },
      "execution_count": 27,
      "outputs": [
        {
          "output_type": "execute_result",
          "data": {
            "text/plain": [
              "(tensor([[[[0.4092, 0.6768, 0.3349, 0.9035],\n",
              "           [0.4944, 0.4070, 0.1732, 0.3757],\n",
              "           [0.5269, 0.9784, 0.7134, 0.9728]]]]),\n",
              " 4)"
            ]
          },
          "metadata": {},
          "execution_count": 27
        }
      ]
    },
    {
      "cell_type": "code",
      "source": [
        "random_tensor=torch.rand(2,3,3,4)\n",
        "random_tensor, random_tensor.ndim"
      ],
      "metadata": {
        "colab": {
          "base_uri": "https://localhost:8080/"
        },
        "id": "oSqbn0clLcmQ",
        "outputId": "323fe188-8c3f-4290-b938-48d31f2c507f"
      },
      "execution_count": 29,
      "outputs": [
        {
          "output_type": "execute_result",
          "data": {
            "text/plain": [
              "(tensor([[[[0.7663, 0.9049, 0.1163, 0.6578],\n",
              "           [0.1661, 0.7486, 0.3235, 0.6276],\n",
              "           [0.2453, 0.2602, 0.9380, 0.1806]],\n",
              " \n",
              "          [[0.4085, 0.0132, 0.8182, 0.6582],\n",
              "           [0.6468, 0.5449, 0.6753, 0.3743],\n",
              "           [0.3089, 0.7815, 0.0750, 0.3458]],\n",
              " \n",
              "          [[0.2341, 0.0923, 0.7100, 0.9165],\n",
              "           [0.4482, 0.4518, 0.9329, 0.1933],\n",
              "           [0.9818, 0.6350, 0.9113, 0.4275]]],\n",
              " \n",
              " \n",
              "         [[[0.5645, 0.2946, 0.2947, 0.2681],\n",
              "           [0.1016, 0.9211, 0.3624, 0.6637],\n",
              "           [0.1842, 0.3308, 0.0134, 0.9004]],\n",
              " \n",
              "          [[0.1860, 0.5390, 0.1407, 0.8606],\n",
              "           [0.6980, 0.3429, 0.4733, 0.0709],\n",
              "           [0.2677, 0.9774, 0.3701, 0.6720]],\n",
              " \n",
              "          [[0.4830, 0.8262, 0.5845, 0.5706],\n",
              "           [0.8139, 0.1443, 0.1878, 0.3021],\n",
              "           [0.2687, 0.6138, 0.4044, 0.4096]]]]),\n",
              " 4)"
            ]
          },
          "metadata": {},
          "execution_count": 29
        }
      ]
    },
    {
      "cell_type": "code",
      "source": [
        "#Creating a random tensor with similar shape of an image tensor\n",
        "image_tensor=torch.rand(size=(3,224,224))\n",
        "image_tensor,image_tensor.shape, image_tensor.ndim"
      ],
      "metadata": {
        "colab": {
          "base_uri": "https://localhost:8080/"
        },
        "id": "XOLCl7FFL_Se",
        "outputId": "1c56a078-0f02-4233-a050-072ffdec9803"
      },
      "execution_count": 33,
      "outputs": [
        {
          "output_type": "execute_result",
          "data": {
            "text/plain": [
              "(tensor([[[0.1185, 0.0498, 0.4543,  ..., 0.0817, 0.9226, 0.8809],\n",
              "          [0.9089, 0.6784, 0.2458,  ..., 0.0950, 0.7098, 0.1754],\n",
              "          [0.7564, 0.5009, 0.7120,  ..., 0.7956, 0.2044, 0.7308],\n",
              "          ...,\n",
              "          [0.1462, 0.9186, 0.6305,  ..., 0.8619, 0.8311, 0.9868],\n",
              "          [0.4158, 0.5188, 0.7804,  ..., 0.8560, 0.6583, 0.0277],\n",
              "          [0.9377, 0.7517, 0.3964,  ..., 0.5894, 0.9585, 0.3315]],\n",
              " \n",
              "         [[0.1400, 0.1050, 0.3729,  ..., 0.7491, 0.9119, 0.3719],\n",
              "          [0.6121, 0.6930, 0.4529,  ..., 0.3929, 0.7264, 0.8781],\n",
              "          [0.5077, 0.1259, 0.9631,  ..., 0.9163, 0.0234, 0.3922],\n",
              "          ...,\n",
              "          [0.3684, 0.1422, 0.5174,  ..., 0.5409, 0.5634, 0.7254],\n",
              "          [0.0796, 0.0334, 0.9905,  ..., 0.3946, 0.7267, 0.9278],\n",
              "          [0.4267, 0.0600, 0.4665,  ..., 0.4172, 0.5476, 0.9358]],\n",
              " \n",
              "         [[0.8047, 0.5250, 0.7985,  ..., 0.7840, 0.1101, 0.9524],\n",
              "          [0.3925, 0.1353, 0.8274,  ..., 0.9399, 0.4063, 0.2224],\n",
              "          [0.6150, 0.2935, 0.3677,  ..., 0.2448, 0.0063, 0.9601],\n",
              "          ...,\n",
              "          [0.0440, 0.1741, 0.9172,  ..., 0.1091, 0.7145, 0.8265],\n",
              "          [0.3109, 0.6123, 0.5930,  ..., 0.8012, 0.0791, 0.9519],\n",
              "          [0.3464, 0.3551, 0.0544,  ..., 0.7654, 0.4172, 0.9546]]]),\n",
              " torch.Size([3, 224, 224]),\n",
              " 3)"
            ]
          },
          "metadata": {},
          "execution_count": 33
        }
      ]
    },
    {
      "cell_type": "code",
      "source": [
        "#random tensor with all zeros\n",
        "torch_zeros=torch.zeros(size=(3,4))\n",
        "torch_zeros, torch_zeros.dtype"
      ],
      "metadata": {
        "colab": {
          "base_uri": "https://localhost:8080/"
        },
        "id": "7_IZGNF3Nsgq",
        "outputId": "fe8043d7-1065-469e-8f3e-e23ab0a4f1cd"
      },
      "execution_count": 34,
      "outputs": [
        {
          "output_type": "execute_result",
          "data": {
            "text/plain": [
              "(tensor([[0., 0., 0., 0.],\n",
              "         [0., 0., 0., 0.],\n",
              "         [0., 0., 0., 0.]]),\n",
              " torch.float32)"
            ]
          },
          "metadata": {},
          "execution_count": 34
        }
      ]
    },
    {
      "cell_type": "code",
      "source": [
        "#random tensor with all ones\n",
        "torch_ones=torch.ones(size=(3,4))\n",
        "torch_ones, torch_ones.dtype"
      ],
      "metadata": {
        "colab": {
          "base_uri": "https://localhost:8080/"
        },
        "id": "E9Eumyw2Nyeh",
        "outputId": "3fe5daca-153c-4f71-8106-4ad14586d298"
      },
      "execution_count": 35,
      "outputs": [
        {
          "output_type": "execute_result",
          "data": {
            "text/plain": [
              "(tensor([[1., 1., 1., 1.],\n",
              "         [1., 1., 1., 1.],\n",
              "         [1., 1., 1., 1.]]),\n",
              " torch.float32)"
            ]
          },
          "metadata": {},
          "execution_count": 35
        }
      ]
    },
    {
      "cell_type": "code",
      "source": [
        "torch_zeros*torch_ones"
      ],
      "metadata": {
        "colab": {
          "base_uri": "https://localhost:8080/"
        },
        "id": "EckNxC9wN35Q",
        "outputId": "9758602e-d968-4587-9966-79f653a99f2d"
      },
      "execution_count": 37,
      "outputs": [
        {
          "output_type": "execute_result",
          "data": {
            "text/plain": [
              "tensor([[0., 0., 0., 0.],\n",
              "        [0., 0., 0., 0.],\n",
              "        [0., 0., 0., 0.]])"
            ]
          },
          "metadata": {},
          "execution_count": 37
        }
      ]
    },
    {
      "cell_type": "code",
      "source": [
        "#arange method\n",
        "torch_range=torch.arange(0,10)\n",
        "torch_range"
      ],
      "metadata": {
        "colab": {
          "base_uri": "https://localhost:8080/"
        },
        "id": "pdcgan60QCBw",
        "outputId": "da8c5fb4-5711-4112-bcff-a65192e41f21"
      },
      "execution_count": 39,
      "outputs": [
        {
          "output_type": "execute_result",
          "data": {
            "text/plain": [
              "tensor([0, 1, 2, 3, 4, 5, 6, 7, 8, 9])"
            ]
          },
          "metadata": {},
          "execution_count": 39
        }
      ]
    },
    {
      "cell_type": "code",
      "source": [
        "#arange method\n",
        "torch_range_step=torch.arange(start=0,end=10,step=2)\n",
        "torch_range"
      ],
      "metadata": {
        "colab": {
          "base_uri": "https://localhost:8080/"
        },
        "id": "4KC3w0ffP7Hb",
        "outputId": "2f29024c-8877-44de-e21a-d77e22c9a5ea"
      },
      "execution_count": 38,
      "outputs": [
        {
          "output_type": "execute_result",
          "data": {
            "text/plain": [
              "tensor([0, 2, 4, 6, 8])"
            ]
          },
          "metadata": {},
          "execution_count": 38
        }
      ]
    },
    {
      "cell_type": "code",
      "source": [
        "#creating tensors like\n",
        "torch_zeros_like=torch.zeros_like(input=torch_range)\n",
        "torch_zeros_like"
      ],
      "metadata": {
        "colab": {
          "base_uri": "https://localhost:8080/"
        },
        "id": "fDmrw9HoQM4H",
        "outputId": "7df57ee7-9013-446c-ed8e-7c924b4ee1b5"
      },
      "execution_count": 40,
      "outputs": [
        {
          "output_type": "execute_result",
          "data": {
            "text/plain": [
              "tensor([0, 0, 0, 0, 0, 0, 0, 0, 0, 0])"
            ]
          },
          "metadata": {},
          "execution_count": 40
        }
      ]
    },
    {
      "cell_type": "code",
      "source": [
        "#creating tensors like\n",
        "torch_ones_like=torch.ones_like(torch_range) #input keyword is optional\n",
        "torch_ones_like"
      ],
      "metadata": {
        "colab": {
          "base_uri": "https://localhost:8080/"
        },
        "id": "CNMreaBaQZIm",
        "outputId": "c5de9d4b-af34-4480-cf19-d6780160afc9"
      },
      "execution_count": 42,
      "outputs": [
        {
          "output_type": "execute_result",
          "data": {
            "text/plain": [
              "tensor([1, 1, 1, 1, 1, 1, 1, 1, 1, 1])"
            ]
          },
          "metadata": {},
          "execution_count": 42
        }
      ]
    },
    {
      "cell_type": "code",
      "source": [
        "#creating tensors like\n",
        "torch_random_like=torch.rand_like(input=torch_range.float()) # Cast torch_range to float\n",
        "torch_random_like"
      ],
      "metadata": {
        "colab": {
          "base_uri": "https://localhost:8080/"
        },
        "id": "Z0buXm5dQjxz",
        "outputId": "090f619c-3529-4a91-b1a1-8b9eb08ed686"
      },
      "execution_count": 45,
      "outputs": [
        {
          "output_type": "execute_result",
          "data": {
            "text/plain": [
              "tensor([0.2745, 0.1981, 0.4006, 0.7291, 0.8775, 0.4452, 0.4648, 0.3489, 0.3994,\n",
              "        0.5366])"
            ]
          },
          "metadata": {},
          "execution_count": 45
        }
      ]
    },
    {
      "cell_type": "markdown",
      "source": [
        "# **Tensor Data Types**"
      ],
      "metadata": {
        "id": "8QPtHtjOSGkV"
      }
    },
    {
      "cell_type": "code",
      "source": [
        "#Tensor float32 data types\n",
        "float_32_tensor=torch.tensor([1.0,2.0,3.0],dtype=None)\n",
        "float_32_tensor, float_32_tensor.dtype"
      ],
      "metadata": {
        "colab": {
          "base_uri": "https://localhost:8080/"
        },
        "id": "GyNpNQviSL6a",
        "outputId": "0a2d778c-06a2-4b7f-fdc8-7309dc3b1d62"
      },
      "execution_count": 46,
      "outputs": [
        {
          "output_type": "execute_result",
          "data": {
            "text/plain": [
              "(tensor([1., 2., 3.]), torch.float32)"
            ]
          },
          "metadata": {},
          "execution_count": 46
        }
      ]
    },
    {
      "cell_type": "code",
      "source": [
        "#Tensor float32 data types\n",
        "float_32_tensor=torch.tensor([1.0,2.0,3.0],dtype=torch.float16)\n",
        "float_32_tensor, float_32_tensor.dtype\n"
      ],
      "metadata": {
        "colab": {
          "base_uri": "https://localhost:8080/"
        },
        "id": "fSwxRdqXSVBJ",
        "outputId": "b2e1b11a-ccb0-4de8-af9b-1bd76dbdde36"
      },
      "execution_count": 48,
      "outputs": [
        {
          "output_type": "execute_result",
          "data": {
            "text/plain": [
              "(tensor([1., 2., 3.], dtype=torch.float16), torch.float16)"
            ]
          },
          "metadata": {},
          "execution_count": 48
        }
      ]
    },
    {
      "cell_type": "code",
      "source": [
        "#Tensor float16 data types\n",
        "float_32_tensor=torch.tensor([1.0,2.0,3.0],\n",
        "                             dtype=torch.float16, #what datatype the tensor\n",
        "                             device=None, #what device the tensor is running\n",
        "                             requires_grad=False) #Whether to track the gradients of the tensor operations\n",
        "float_32_tensor, float_32_tensor.dtype"
      ],
      "metadata": {
        "colab": {
          "base_uri": "https://localhost:8080/"
        },
        "id": "2y2lnPpiScod",
        "outputId": "c9d2b38b-673a-48c4-e9a6-f0b8fb486366"
      },
      "execution_count": 49,
      "outputs": [
        {
          "output_type": "execute_result",
          "data": {
            "text/plain": [
              "(tensor([1., 2., 3.], dtype=torch.float16), torch.float16)"
            ]
          },
          "metadata": {},
          "execution_count": 49
        }
      ]
    },
    {
      "cell_type": "markdown",
      "source": [
        "Three types of tensor errors can be found in deep learning and pytorch\n",
        "1. The tensors not right datatype\n",
        "2. The tensor not right shape\n",
        "3. tensors not right device\n"
      ],
      "metadata": {
        "id": "J28PSiaEU0a7"
      }
    },
    {
      "cell_type": "code",
      "source": [
        "#data type change\n",
        "tensor_float32=torch.tensor([1.0,2.0,3.0],\n",
        "                             dtype=None, #what datatype the tensor\n",
        "                             device=None, #what device the tensor is running\n",
        "                             requires_grad=False)\n",
        "tensor_float16=tensor_float32.type(torch.float16)\n",
        "tensor_float16, tensor_float16.dtype"
      ],
      "metadata": {
        "colab": {
          "base_uri": "https://localhost:8080/"
        },
        "id": "2sqHyxKVUy_7",
        "outputId": "07bb6492-69ca-4d86-d9cf-cbb06eedcd17"
      },
      "execution_count": 54,
      "outputs": [
        {
          "output_type": "execute_result",
          "data": {
            "text/plain": [
              "(tensor([1., 2., 3.], dtype=torch.float16), torch.float16)"
            ]
          },
          "metadata": {},
          "execution_count": 54
        }
      ]
    },
    {
      "cell_type": "code",
      "source": [],
      "metadata": {
        "id": "aASigGH8aSCB"
      },
      "execution_count": null,
      "outputs": []
    }
  ]
}