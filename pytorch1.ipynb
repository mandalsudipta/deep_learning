{
  "nbformat": 4,
  "nbformat_minor": 0,
  "metadata": {
    "colab": {
      "provenance": [],
      "authorship_tag": "ABX9TyMdKV3e1zRcIVTiJLSpbFzM"
    },
    "kernelspec": {
      "name": "python3",
      "display_name": "Python 3"
    },
    "language_info": {
      "name": "python"
    }
  },
  "cells": [
    {
      "cell_type": "markdown",
      "source": [
        "We are covering here\n",
        "1. Data loading and prepare(converting into tensors)\n",
        "2. Building the model\n",
        "3. Train the model with data\n",
        "4. Evaluating the Model\n",
        "5. Save the Model\n",
        "6. Using the same model"
      ],
      "metadata": {
        "id": "mVvsyoLkKPY9"
      }
    },
    {
      "cell_type": "code",
      "execution_count": 5,
      "metadata": {
        "colab": {
          "base_uri": "https://localhost:8080/",
          "height": 35
        },
        "id": "iuiFGP5MI-Hb",
        "outputId": "992bdbf2-ca79-4c6f-fc09-adf2e643cbeb"
      },
      "outputs": [
        {
          "output_type": "execute_result",
          "data": {
            "text/plain": [
              "'2.5.1+cu121'"
            ],
            "application/vnd.google.colaboratory.intrinsic+json": {
              "type": "string"
            }
          },
          "metadata": {},
          "execution_count": 5
        }
      ],
      "source": [
        "import torch\n",
        "from torch import nn #nn contains all pytorch's building blocks for neural network\n",
        "import matplotlib.pyplot as plt\n",
        "torch.__version__"
      ]
    },
    {
      "cell_type": "markdown",
      "source": [
        "1. Lets start with Data (Prepare the Data)\n",
        "\n",
        "Data can be\n",
        "1. Excel Spreadsheet\n",
        "2. images of any kind\n",
        "3. youtube videos\n",
        "4. audio like songs and podcast\n",
        "5. dna\n",
        "6. text\n",
        "\n",
        "Machine learning is game of two parts\n",
        "1. Get the data into numerical reperesentation\n",
        "2. Build a model to learn pattern from that numerical represntation\n",
        "\n"
      ],
      "metadata": {
        "id": "yE2vWXMhL4v2"
      }
    },
    {
      "cell_type": "code",
      "source": [
        "#Let's create some data\n",
        "weight = 0.7\n",
        "bias = 0.3\n",
        "\n",
        "start = 0\n",
        "end = 1\n",
        "step = 0.02\n",
        "\n",
        "X = torch.arange(start,end,step).unsqueeze(dim=1)\n",
        "y = weight*X + bias\n",
        "\n",
        "X[:10],y[:10], len(X), len(y)\n"
      ],
      "metadata": {
        "colab": {
          "base_uri": "https://localhost:8080/"
        },
        "id": "7QkG1ixkJUFL",
        "outputId": "e326dd0e-d05a-4e95-baec-fea4ba8bec6c"
      },
      "execution_count": 8,
      "outputs": [
        {
          "output_type": "execute_result",
          "data": {
            "text/plain": [
              "(tensor([[0.0000],\n",
              "         [0.0200],\n",
              "         [0.0400],\n",
              "         [0.0600],\n",
              "         [0.0800],\n",
              "         [0.1000],\n",
              "         [0.1200],\n",
              "         [0.1400],\n",
              "         [0.1600],\n",
              "         [0.1800]]),\n",
              " tensor([[0.3000],\n",
              "         [0.3140],\n",
              "         [0.3280],\n",
              "         [0.3420],\n",
              "         [0.3560],\n",
              "         [0.3700],\n",
              "         [0.3840],\n",
              "         [0.3980],\n",
              "         [0.4120],\n",
              "         [0.4260]]),\n",
              " 50,\n",
              " 50)"
            ]
          },
          "metadata": {},
          "execution_count": 8
        }
      ]
    }
  ]
}